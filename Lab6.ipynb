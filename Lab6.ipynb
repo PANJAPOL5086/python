{
  "nbformat": 4,
  "nbformat_minor": 0,
  "metadata": {
    "colab": {
      "provenance": [],
      "include_colab_link": true
    },
    "kernelspec": {
      "name": "python3",
      "display_name": "Python 3"
    },
    "language_info": {
      "name": "python"
    }
  },
  "cells": [
    {
      "cell_type": "markdown",
      "metadata": {
        "id": "view-in-github",
        "colab_type": "text"
      },
      "source": [
        "<a href=\"https://colab.research.google.com/github/PANJAPOL5086/python/blob/main/Lab6.ipynb\" target=\"_parent\"><img src=\"https://colab.research.google.com/assets/colab-badge.svg\" alt=\"Open In Colab\"/></a>"
      ]
    },
    {
      "cell_type": "markdown",
      "source": [
        "Ex. 6.1 ให้เขียนฟังก์ชันชื่อ test_ pangram เพื่อตรวจสอบว่า String ที่รับเข้ามาเป็น pangram หรือไม่ โดย pangram คือ string ที่ประกอบด้วยตัวอักษรทุกตัวในภาษาอังกฤษ (ต้องมีอักษรแต่ละตัวปรากฏอย่างน้อย 1 ครั้ง) เช่น\n",
        "The quick brown fox jumps over the lazy dog\n",
        "รับข้อมูลเป็น string และ return เป็น True หรือ False"
      ],
      "metadata": {
        "id": "g1jKRrPZdrD9"
      }
    },
    {
      "cell_type": "code",
      "execution_count": null,
      "metadata": {
        "id": "oc_mt8z2dluv",
        "colab": {
          "base_uri": "https://localhost:8080/"
        },
        "outputId": "4615a1ce-bfc9-4338-fb7f-44b11d7efa60"
      },
      "outputs": [
        {
          "output_type": "execute_result",
          "data": {
            "text/plain": [
              "True"
            ]
          },
          "metadata": {},
          "execution_count": 137
        }
      ],
      "source": [
        "def test_pangram(str):\n",
        "  a = \"abcdefghijklmnopqrstuvwxyz\"\n",
        "  for char in a:\n",
        "    if char not in str.lower():\n",
        "      return False\n",
        "  return True\n",
        "\n",
        "test_pangram(\"The quick brown fox jumps over the lazy dog\")\n"
      ]
    },
    {
      "cell_type": "markdown",
      "source": [
        "Ex 6.2 จงเขียน โปรแกรมที่รวมผลลัพธ์ ของตัวเลขที่อยู่ใน List โดยกำหนดให้ฟังก์ชัน ชื่อ find_sum(n_list,n) โดย n_list เป็น List ของตัวเลขที่มีความยาว n โดยให้เขียนในแบบ Recursion\n"
      ],
      "metadata": {
        "id": "jsFdK2rreKku"
      }
    },
    {
      "cell_type": "code",
      "source": [
        "def find_sum(n_list,n):\n",
        "  if len(n_list) == 0:\n",
        "    return 0\n",
        "  else:\n",
        "    return n_list[0] + find_sum(n_list[1:],n)\n",
        "find_sum([1,2,3,4,5,6,7,8,9,10],10)"
      ],
      "metadata": {
        "id": "SWhMgyAc0uSI",
        "colab": {
          "base_uri": "https://localhost:8080/"
        },
        "outputId": "c5bef66f-760e-4539-eb12-1be21adb5fad"
      },
      "execution_count": null,
      "outputs": [
        {
          "output_type": "execute_result",
          "data": {
            "text/plain": [
              "55"
            ]
          },
          "metadata": {},
          "execution_count": 136
        }
      ]
    },
    {
      "cell_type": "markdown",
      "source": [
        "Ex 6.3 กำหนดให้ List x เก็บ String และตัวแปร c เก็บตัวอักษร\n",
        "ให้สร้าง List d ที่เก็บจำนวนครั้งที่ตัวอักษรใน c ปรากฏในแต่ละ String ของ List x โดยใช้ List comprehension\n",
        "\n",
        "- เช่น x = [‘abba’, ‘babana’, ‘ann’]; c = ‘a’\n",
        "- จะได้ d = [2, 3, 1]\n",
        "\n",
        "ให้เขียนในฟังก์ชัน count_char_in_string(x,c) แล้ว return เป็น List คำตอบ"
      ],
      "metadata": {
        "id": "S9FRT-zz05-A"
      }
    },
    {
      "cell_type": "code",
      "source": [
        "def count_char_in_string(x,c):\n",
        "  d = [i.count(c) for i in x]\n",
        "\n",
        "  return d\n",
        "\n",
        "print(count_char_in_string(['abba', 'babana', 'ann'],'a')) #=> [2, 3, 1]\n",
        "print(count_char_in_string(['apple', 'banana', 'cherry'],'a')) #=> [1, 3, 0]\n",
        "print(count_char_in_string(['dog', 'cat', 'fish'],'z')) #=> [0, 0, 0]\n",
        "print(count_char_in_string(['abc', 'bcb', 'cab'],'b')) #=> [1, 2, 1]\n",
        "print(count_char_in_string(['', 'a', ''],'a')) #=> [0, 1, 0]\n",
        "print(count_char_in_string(['@home', '#hash', 'space '],'#')) #=> [0, 1, 0]"
      ],
      "metadata": {
        "id": "yQZQFVa01JPs",
        "colab": {
          "base_uri": "https://localhost:8080/"
        },
        "outputId": "8101f8e5-d477-4b0c-abc4-8f7fe6b18a49"
      },
      "execution_count": 1,
      "outputs": [
        {
          "output_type": "stream",
          "name": "stdout",
          "text": [
            "[2, 3, 1]\n",
            "[1, 3, 0]\n",
            "[0, 0, 0]\n",
            "[1, 2, 1]\n",
            "[0, 1, 0]\n",
            "[0, 1, 0]\n"
          ]
        }
      ]
    },
    {
      "cell_type": "markdown",
      "source": [
        "Ex 6.4  กำหนดให้ List x เป็น List ของจำนวนเต็ม\n",
        "ให้เขียนโปรแกรมเพื่อลบจำนวนเต็มทุกตัวใน x ที่มีค่าเป็นลบ โดยใช้ List comprehension\n",
        "\n",
        "- เช่น x = [ [1, -3, 2], [-8, 5], [-1, -4, -3] ]\n",
        "- ได้คำตอบเป็น [ [1, 2], [5], [] ]\n",
        "\n",
        "ให้เขียนในฟังก์ชัน delete_minus(x) แล้ว return เป็น List คำตอบ\n",
        "Hint : ถ้าคิดไม่ออกให้ทดลองเขียนแบบปกติก่อน แล้วค่อยลดรูป\n"
      ],
      "metadata": {
        "id": "vRtEJLkP5MLT"
      }
    },
    {
      "cell_type": "code",
      "source": [
        "def delete_minus(x):\n",
        "  new = [[v for v in e if v > 0] for i,e in enumerate(x)]\n",
        "  return new\n",
        "\n",
        "\n",
        "print(delete_minus([[1, -3, 2], [-8, 5], [-1, -4, -3]]) )#=> [[1, 2], [5], []]\n",
        "print(delete_minus([[0, -1, -2], [3, 4, -5], [-6, 7]])) #=> [[0], [3, 4], [7]]\n",
        "print(delete_minus([[10, -10, 20], [-30, 30], [40, -40]])) #=> [[10, 20], [30], [40]]\n",
        "print(delete_minus([[1, 2, 3], [4, 5], [6]])) #=> [[1, 2, 3], [4, 5], [6]]\n",
        "print(delete_minus([[-1, -2, -3], [-4, -5], [-6]])) #=> [[], [], []]\n",
        "print(delete_minus([[-10, -20, -30], [-40, -50], [-60]])) #=> [[], [], []]"
      ],
      "metadata": {
        "id": "SDA5CALo5WPK",
        "colab": {
          "base_uri": "https://localhost:8080/"
        },
        "outputId": "8a06ee4e-2cef-41f2-a511-2c2dcdbcc5ac"
      },
      "execution_count": 3,
      "outputs": [
        {
          "output_type": "stream",
          "name": "stdout",
          "text": [
            "[[1, 2], [5], []]\n",
            "[[], [3, 4], [7]]\n",
            "[[10, 20], [30], [40]]\n",
            "[[1, 2, 3], [4, 5], [6]]\n",
            "[[], [], []]\n",
            "[[], [], []]\n"
          ]
        }
      ]
    },
    {
      "cell_type": "markdown",
      "source": [
        "Ex 6.5 ให้เขียนโปรแกรมเพื่อรับข้อมูล 1 บรรทัด ที่ประกอบด้วยจำนวนเต็มหลายจำนวน (คั่นด้วยช่องว่าง)\n",
        "ให้ส่งคืนว่ามีจำนวนที่เป็นลบกี่จำนวน โดยใช้ List comprehension\n",
        "ให้เขียนในฟังก์ชัน count_minus(str) แล้ว return เป็นคำตอบ"
      ],
      "metadata": {
        "id": "nLUpu-7v6MCa"
      }
    },
    {
      "cell_type": "code",
      "source": [
        "lst = [[[1, -3, 2], [-8, 5], [-1, -4, -3]],[[1, -3, 2], [-8, 5], [-1, -4, -3]]]\n",
        "for i,e in enumerate(lst):\n",
        "    print(i,e)\n",
        "    for j,v in enumerate(e):\n",
        "        print(j,v)\n",
        "        for k in v:\n",
        "            print(k)"
      ],
      "metadata": {
        "id": "BO0JESLu9cVj",
        "colab": {
          "base_uri": "https://localhost:8080/"
        },
        "outputId": "bf40bedf-6b53-4a64-b923-b7bb178ae4ad"
      },
      "execution_count": 4,
      "outputs": [
        {
          "output_type": "stream",
          "name": "stdout",
          "text": [
            "0 [[1, -3, 2], [-8, 5], [-1, -4, -3]]\n",
            "0 [1, -3, 2]\n",
            "1\n",
            "-3\n",
            "2\n",
            "1 [-8, 5]\n",
            "-8\n",
            "5\n",
            "2 [-1, -4, -3]\n",
            "-1\n",
            "-4\n",
            "-3\n",
            "1 [[1, -3, 2], [-8, 5], [-1, -4, -3]]\n",
            "0 [1, -3, 2]\n",
            "1\n",
            "-3\n",
            "2\n",
            "1 [-8, 5]\n",
            "-8\n",
            "5\n",
            "2 [-1, -4, -3]\n",
            "-1\n",
            "-4\n",
            "-3\n"
          ]
        }
      ]
    },
    {
      "cell_type": "markdown",
      "source": [
        "Ex 6.6 ให้เขียนโปรแกรมเพื่อรับ string 1 ตัว\n",
        "ให้ส่งคืนเฉพาะตัวอักษรที่เป็นภาษาอังกฤษ โดยใช้ List comprehension\n",
        "ให้เขียนในฟังก์ชัน only_english(string1) แล้ว return เป็นคำตอบเป็น string"
      ],
      "metadata": {
        "id": "18YUhkQ96Fiw"
      }
    },
    {
      "cell_type": "code",
      "source": [
        "def count_minus(str1):\n",
        "  return len([True for i in str1 if i == '-'])\n",
        "\n",
        "\n",
        "print(count_minus(\"1 2 -3 4 -5\")) #=> 2\n",
        "print(count_minus(\"-1 -2 -3 -4 -5\")) #=> 5\n",
        "print(count_minus(\"1 2 3 4 5\")) #=> 0\n",
        "print(count_minus(\"0 0 0 0 0\")) #=> 0\n",
        "print(count_minus(\"-10 -20 -30 -40 -50\")) #=> 5"
      ],
      "metadata": {
        "id": "QM_Vbz-k9shU",
        "colab": {
          "base_uri": "https://localhost:8080/"
        },
        "outputId": "83619f5f-86ba-4c6d-b70c-57c684be17f1"
      },
      "execution_count": 5,
      "outputs": [
        {
          "output_type": "stream",
          "name": "stdout",
          "text": [
            "2\n",
            "5\n",
            "0\n",
            "0\n",
            "5\n"
          ]
        }
      ]
    },
    {
      "cell_type": "markdown",
      "source": [
        "Ex 6.7 กำหนดให้ list x และ y เป็น list ของจำนวนเต็ม โดยมีขนาดเท่ากัน\n",
        "ให้ return list ที่เป็นผลบวกของ list x และ y โดยใช้ list comprehension\n",
        "เขียนให้ function ชื่อ add2list(lst1,lst2)\n",
        "\n",
        "\n"
      ],
      "metadata": {
        "id": "S5dKtu4o96b-"
      }
    },
    {
      "cell_type": "code",
      "source": [
        "def only_english(string1):\n",
        "  result = ''\n",
        "  res = ''.join([i for i in string1 if i.isalpha() or i == ' '])\n",
        "  return '\"' + res + '\"'\n",
        "\n",
        "print(only_english(\"Hello, World!\")) #=> \"Hello World\"\n",
        "print(only_english(\"This is a test.\")) #=> \"This is a test\"\n",
        "print(only_english(\"12345\")) #=> \"\"\n",
        "print(only_english(\"abcABC123\")) #=> \"abcABC\"\n",
        "print(only_english(\"!@#$%^&*()\")) #=> \"\""
      ],
      "metadata": {
        "id": "L18pzqF5-AtR",
        "colab": {
          "base_uri": "https://localhost:8080/"
        },
        "outputId": "ad4e3497-834d-46b9-f8c9-170ee4f0e256"
      },
      "execution_count": 6,
      "outputs": [
        {
          "output_type": "stream",
          "name": "stdout",
          "text": [
            "\"Hello World\"\n",
            "\"This is a test\"\n",
            "\"\"\n",
            "\"abcABC\"\n",
            "\"\"\n"
          ]
        }
      ]
    },
    {
      "cell_type": "markdown",
      "source": [
        "1.\tกำหนดให้ m เป็น list ของ list ของ Integer ให้แปลง m ให้เป็น list ของ integer โดยใช้ List Comprehension โดยให้เขียนเป็น ฟังก์ชัน ชื่อ flatten_list(lst) และ return เป็น list คำตอบ\n",
        "- Input : [ [1, 2, 3], [4, 5, 6] ]\n",
        "- Output : [1, 2, 3, 4, 5, 6]\n"
      ],
      "metadata": {
        "id": "5HpBdNsU-4SW"
      }
    },
    {
      "cell_type": "code",
      "source": [
        "def add2list(lst1,lst2):\n",
        "  res = [lst1[i]+lst2[i] for i in range(len(lst1))] #create\n",
        "  return res\n",
        "\n",
        "print(add2list([1, 2, 3], [4, 5, 6])) #=> [5, 7, 9]\n",
        "print(add2list([-1, -2, -3], [1, 2, 3])) #=> [0, 0, 0]\n",
        "print(add2list([0, 0, 0], [10, 20, 30])) #=> [10, 20, 30]\n",
        "print(add2list([7, 8, 9], [3, 2, 1])) #=>[10, 10, 10]\n",
        "print(add2list([100, 200, 300], [400, 500, 600])) #=> [500, 700, 900]\n",
        "print(add2list([1, 2, 3, 4, 5], [6, 7, 8, 9, 10])) #=> [7, 9, 11, 13, 15]"
      ],
      "metadata": {
        "id": "nfKGEY7d--zX",
        "colab": {
          "base_uri": "https://localhost:8080/"
        },
        "outputId": "943dccf1-9588-43fe-e413-7f8178901495"
      },
      "execution_count": 7,
      "outputs": [
        {
          "output_type": "stream",
          "name": "stdout",
          "text": [
            "[5, 7, 9]\n",
            "[0, 0, 0]\n",
            "[10, 20, 30]\n",
            "[10, 10, 10]\n",
            "[500, 700, 900]\n",
            "[7, 9, 11, 13, 15]\n"
          ]
        }
      ]
    },
    {
      "cell_type": "markdown",
      "source": [
        "2.\tกำหนดให้ s เป็น list ของ Integer ให้เขียนโปรแกรม ตัดตัวเลขที่ซ้ำกันใน list ให้เหลือเพียงตัวเลขเดียว โดยใช้ list comprehension (ห้ามใช้ set) โดยมีขั้นตอนดังนี้\n",
        "-\tเรียงลำดับข้อมูลใน list\n",
        "-\tสร้าง list ใหม่ โดยนำข้อมูลใน list ตัวที่ติดกันมาพิจารณาจากซ้ายไปขวา หากค่าไม่เท่ากันให้นำไปใส่ใน list ใหม่\n",
        "-\tนำตัวขวาสุด (ตัวสุดท้าย) เพิ่มเข้าไปใน list ใหม่ ก็จะได้ s ที่ไม่มีตัวซ้ำ\n",
        "-\tโดยให้เขียนเป็นฟังก์ชัน ชื่อ remove_duplicate(s)\n",
        "\n",
        "- Input : [1, 2, 3, 3, 4, 5, 6]\n",
        "- Output : [1, 2, 3, 4, 5, 6]\n",
        "\n",
        "ห้ามใช้ sort"
      ],
      "metadata": {
        "id": "_FXeyEnm_y8X"
      }
    },
    {
      "cell_type": "code",
      "source": [
        "def remove_duplicate(s):\n",
        "  for i in range(len(s)):\n",
        "      for j in range(i + 1, len(s)):\n",
        "        if s[i] > s[j]:\n",
        "          s[i], s[j] = s[j], s[i]\n",
        "  lis = []\n",
        "  [lis.append(x) for x in s if x not in lis]\n",
        "  print(lis)\n",
        "remove_duplicate([1, 2, 3, 3, 4, 5, 6])\n",
        "remove_duplicate([5, 1, 3, 3, 2, 5, 1])\n",
        "remove_duplicate([7, 7, 8, 8, 8, 9])\n",
        "remove_duplicate([10, 10, 10, 10])\n",
        "remove_duplicate([1, 2, 2, 3, 4, 4, 4, 5])"
      ],
      "metadata": {
        "colab": {
          "base_uri": "https://localhost:8080/"
        },
        "id": "UDLbD6wX9fsN",
        "outputId": "c861a5bd-00ce-49e1-e289-84696bc57166"
      },
      "execution_count": null,
      "outputs": [
        {
          "output_type": "stream",
          "name": "stdout",
          "text": [
            "[1, 2, 3, 4, 5, 6]\n",
            "[1, 2, 3, 5]\n",
            "[7, 8, 9]\n",
            "[10]\n",
            "[1, 2, 3, 4, 5]\n"
          ]
        }
      ]
    },
    {
      "cell_type": "code",
      "source": [
        "def remove_duplicate(s):\n",
        "    result = [s[i] for i in range(len(s)) if i == 0 or s[i] != s[i-1]]\n",
        "    return result\n",
        "\n",
        "# remove_duplicate([1, 2, 3, 3, 4, 5, 6]) => [1, 2, 3, 4, 5, 6]\n",
        "# remove_duplicate([5, 1, 3, 3, 2, 5, 1]) => [1, 2, 3, 5]\n",
        "# remove_duplicate([7, 7, 8, 8, 8, 9]) => [7, 8, 9]\n",
        "# remove_duplicate([10, 10, 10, 10]) => [10]\n",
        "# remove_duplicate([1, 2, 2, 3, 4, 4, 4, 5]) => [1, 2, 3, 4, 5]\n",
        "print(remove_duplicate([1, 2, 3, 3, 4, 5, 6]))\n",
        "print(remove_duplicate([5, 1, 3, 3, 2, 5, 1]))\n",
        "print(remove_duplicate([7, 7, 8, 8, 8, 9]))\n",
        "print(remove_duplicate([10, 10, 10, 10]))\n",
        "print(remove_duplicate([1, 2, 2, 3, 4, 4, 4, 5]))"
      ],
      "metadata": {
        "id": "iH8ceRWJ_5wq",
        "colab": {
          "base_uri": "https://localhost:8080/"
        },
        "outputId": "d67d4c5d-d2f0-43e5-80e3-2a0963e0e8f5"
      },
      "execution_count": null,
      "outputs": [
        {
          "output_type": "stream",
          "name": "stdout",
          "text": [
            "[1, 2, 3, 4, 5, 6]\n",
            "[5, 1, 3, 2, 5, 1]\n",
            "[7, 8, 9]\n",
            "[10]\n",
            "[1, 2, 3, 4, 5]\n"
          ]
        }
      ]
    },
    {
      "cell_type": "markdown",
      "source": [
        "3.\tกำหนดให้มี 2 list คือ lst1 และ lst2 ให้ค้นหาสมาชิกที่มีในทั้ง 2 list โดยใช้ list comprehension\n",
        "(ห้ามใช้ set) โดยให้เขียนเป็นฟังก์ชันชื่อ common_member(lst1, lst2) โดย return เป็น list ที่มีสมาชิกทั้ง 2 list\n",
        "- Input : lst1 = [1, 2, 4, 5, 6] lst2 = [2, 3, 4]\n",
        "- Output : [2, 4]\n"
      ],
      "metadata": {
        "id": "f9smt54DAyYU"
      }
    },
    {
      "cell_type": "code",
      "source": [
        "def common_member(lst1, lst2):\n",
        "  res = [i for i in lst1 if i in lst2]\n",
        "  return res\n",
        "print(common_member([1, 2, 4, 5, 6], [2, 3, 4])) #=> [2, 4]\n",
        "print(common_member([1, 2, 3, 4, 5], [6, 7, 8])) #=> []\n",
        "print(common_member([1, 2, 3, 4, 5], [1, 2, 3, 4, 5])) #=> [1, 2, 3, 4, 5]\n",
        "print(common_member([1, 2, 3, 4, 5], [5, 4, 3, 2, 1])) #=> [1, 2, 3, 4, 5]\n",
        "print(common_member([1, 2, 3, 4, 5], [6, 7, 8, 9, 10])) #=> []"
      ],
      "metadata": {
        "id": "3K2MCpiWA-tX",
        "colab": {
          "base_uri": "https://localhost:8080/"
        },
        "outputId": "674bdf42-527e-4573-e44d-33386eb7e103"
      },
      "execution_count": 8,
      "outputs": [
        {
          "output_type": "stream",
          "name": "stdout",
          "text": [
            "[2, 4]\n",
            "[]\n",
            "[1, 2, 3, 4, 5]\n",
            "[1, 2, 3, 4, 5]\n",
            "[]\n"
          ]
        }
      ]
    },
    {
      "cell_type": "markdown",
      "source": [
        "4.\tกำหนดให้ s เป็น String ให้เขียนโปรแกรมโดยใช้ List comprehension โดยให้ตัดตัวอักษรภาษาอังกฤษที่เป็นสระ a, e, i, o, u ออกจากประโยคให้หมด เช่น\n",
        "\n",
        "- Input : “common_member” จะได้ Output เป็น “cmmn mmbr”\n",
        "\n"
      ],
      "metadata": {
        "id": "V71CdsnEBWu8"
      }
    },
    {
      "cell_type": "code",
      "source": [
        "def remove_vowels(s):\n",
        "  text = 'aeiou'\n",
        "  res = [s[i] for i in range(len(s)) if s[i] not in text] # เราไม่เอา aeiou\n",
        "\n",
        "  ''' เราเอาตัวอักษรพิเศษออก '''\n",
        "  for i in range(len(res)):\n",
        "    if not res[i].isalpha():\n",
        "      res[i] = ' '\n",
        "\n",
        "  ''' เราเอา lst มาทำเป็น str '''\n",
        "  result = ''\n",
        "  for i in res:\n",
        "    result += i\n",
        "  return result\n",
        "\n",
        "print(remove_vowels(\"common_member\")) #=> \"cmmn mmbr\"\n",
        "print(remove_vowels(\"hello world\")) #=> \"hll wrld\"\n",
        "print(remove_vowels(\"aeiou\"))#=> \"\"\n",
        "print(remove_vowels(\"qwertyuiop\") )#=> \"qwrtyp\n",
        "print(remove_vowels(\"abcdefghijklmnopqrstuvwxyz\")) #=> \"bcdfghjklmnp"
      ],
      "metadata": {
        "id": "UNjxlDMqBcSz",
        "colab": {
          "base_uri": "https://localhost:8080/"
        },
        "outputId": "fcd27865-486c-4bdc-811f-12e630e74e77"
      },
      "execution_count": 9,
      "outputs": [
        {
          "output_type": "stream",
          "name": "stdout",
          "text": [
            "cmmn mmbr\n",
            "hll wrld\n",
            "\n",
            "qwrtyp\n",
            "bcdfghjklmnpqrstvwxyz\n"
          ]
        }
      ]
    },
    {
      "cell_type": "markdown",
      "source": [
        "5.\tให้เขียนโปรแกรมรับ list ของจำนวนเต็มชุดหนึ่ง โดย list นี้จะมีสมาชิกพิเศษอยู่ที่ตัวสุดท้าย ซึ่งจะมีค่าเป็นลบเสมอ (สมาชิกตัวอื่นเป็นบวกหรือลบก็ได้) ให้สร้าง list ใหม่ที่เกิดจากสมาชิกทุกตัว (ยกเว้นตัวสุดท้าย) ลบด้วยสมาชิกตัวสุดท้าย\n",
        "- Input : [1, 10, 2, -5]\n",
        "- Output: [-4, 5, -3]\n",
        "- Input : [100, 0, -1]\n",
        "- Output: [99, -1]\n",
        "- Input : [3, -3]\n",
        "\n"
      ],
      "metadata": {
        "id": "Zo07ebrTBjgA"
      }
    },
    {
      "cell_type": "code",
      "source": [
        "def remove_last_element(lst):\n",
        "  for i in range(len(lst)):\n",
        "    lst[i] = lst[i] + lst[-1]\n",
        "  lst.pop(-1)\n",
        "  return lst\n",
        "print(remove_last_element([1, 10, 2, -5])) #=> [-4, 5, -3]\n",
        "print(remove_last_element([100, 0, -1])) #=> [99, -1]\n",
        "print(remove_last_element([3, -3])) #=> [0]"
      ],
      "metadata": {
        "id": "cSSMJX5fBi8-",
        "colab": {
          "base_uri": "https://localhost:8080/"
        },
        "outputId": "781fbc42-e979-4f82-c2ff-b26213c97cf9"
      },
      "execution_count": 10,
      "outputs": [
        {
          "output_type": "stream",
          "name": "stdout",
          "text": [
            "[-4, 5, -3]\n",
            "[99, -1]\n",
            "[0]\n"
          ]
        }
      ]
    },
    {
      "cell_type": "markdown",
      "source": [
        "6.\tกำหนดให้ s เป็น String ให้เขียนโปรแกรมเพื่อหา คำ ที่มีความยาวน้อยกว่า 5 ตัวอักษร โดยใช้ list comprehension\n",
        "- Input : “A total of 16 playable characters!”\n",
        "- Output : “A total of 16”\n",
        "\n"
      ],
      "metadata": {
        "id": "kguZ7w78CP0W"
      }
    },
    {
      "cell_type": "code",
      "source": [
        "def find_short_words(s):\n",
        "  return \" \".join([word for word in s.split() if len(word) < 5])\n",
        "print(find_short_words(\"A total of 16 playable characters!\"))\n",
        "print(find_short_words(\"The quick brown fox jumps over the lazy dog\"))\n",
        "print(find_short_words(\"Python is a great programming language\"))\n",
        "print(find_short_words(\"Short words are kept short and long words are ignored\"))\n",
        "# find_short_words(\"A total of 16 playable characters!\") => \"A of 16\"\n",
        "# find_short_words(\"The quick brown fox jumps over the lazy dog\") => \"The fox over the dog\"\n",
        "# find_short_words(\"Python is a great programming language\") => \"is a\"\n",
        "# find_short_words(\"Short words are kept short and long words are ignored\") => \"are kept and are\""
      ],
      "metadata": {
        "id": "IN6wcH_WCVJv",
        "colab": {
          "base_uri": "https://localhost:8080/"
        },
        "outputId": "629f2692-79ca-4f5c-f2a1-85e8eb246a49"
      },
      "execution_count": null,
      "outputs": [
        {
          "output_type": "stream",
          "name": "stdout",
          "text": [
            "A of 16\n",
            "The fox over the lazy dog\n",
            "is a\n",
            "are kept and long are\n"
          ]
        }
      ]
    },
    {
      "cell_type": "markdown",
      "source": [
        "7.\tให้เขียนโปรแกรมเพื่อคำนวณหา rank ของรหัสนักศึกษาที่กำหนด โดยให้เรียงตามคะแนน โดย rank = 1 คือ มีคะแนนสูงสุด โดยใช้ list comprehension\n",
        "กำหนดให้มีข้อมูล s_score มีตัวอย่างดังนี้\n",
        "\n",
        "s_score = [\t[‘65015001’, 87.25],\n",
        "\t\t[‘65015002’, 77.00],\n",
        "\t\t[‘65015003’, 82.50],\n",
        "\t\t[‘65015004’, 69.75],\n",
        "\t\t[‘65015005’, 66.00]  ]\n",
        "    \n",
        "ให้เขียนฟังก์ชัน find_rank( s_score, stu_id ) โดย s_score เป็น list ของคะแนน และ std_id เป็นรหัสนักศึกษาที่ต้องการหา rank\n",
        "เช่น find_rank ( s_score, ‘65015004’) จะ return 4 เพราะมีคะแนนเป็นอันดับ 4\n"
      ],
      "metadata": {
        "id": "yioC3udBDK3M"
      }
    },
    {
      "cell_type": "code",
      "source": [
        "def find_rank(s_score, stu_id):\n",
        "    sorted_scores = sorted(s_score, key=lambda x: x[1], reverse=True)\n",
        "\n",
        "    rank = [student[0] for student in sorted_scores].index(stu_id) + 1\n",
        "\n",
        "    return rank\n",
        "\n",
        "# Test Case 1\n",
        "s_score = [['65015001', 87.25], ['65015002', 77.00], ['65015003', 82.50], ['65015004', 69.75], ['65015005', 66.00]]\n",
        "print(find_rank(s_score, '65015004'))  # Output: 4\n",
        "\n",
        "# Test Case 2\n",
        "s_score = [['65015001', 90.00], ['65015002', 80.00], ['65015003', 85.00], ['65015004', 70.00], ['65015005', 60.00]]\n",
        "print(find_rank(s_score, '65015002'))  # Output: 2\n",
        "\n",
        "# Test Case 3\n",
        "s_score = [['65015001', 95.00], ['65015002', 95.00], ['65015003', 90.00], ['65015004', 85.00], ['65015005', 80.00]]\n",
        "print(find_rank(s_score, '65015001'))  # Output: 1\n",
        "\n",
        "# Test Case 4\n",
        "s_score = [['65015001', 50.00], ['65015002', 60.00], ['65015003', 70.00], ['65015004', 80.00], ['65015005', 90.00]]\n",
        "print(find_rank(s_score, '65015005'))  # Output: 1\n",
        "\n",
        "# Test Case 5\n",
        "s_score = [['65015001', 55.00], ['65015002', 65.00], ['65015003', 75.00], ['65015004', 85.00], ['65015005', 95.00]]\n",
        "print(find_rank(s_score, '65015003'))  # Output: 3\n"
      ],
      "metadata": {
        "id": "72EkAIBjDTO_",
        "colab": {
          "base_uri": "https://localhost:8080/"
        },
        "outputId": "51158f21-723f-423f-c595-71a8506a0c7e"
      },
      "execution_count": 17,
      "outputs": [
        {
          "output_type": "stream",
          "name": "stdout",
          "text": [
            "4\n",
            "3\n",
            "1\n",
            "1\n",
            "3\n"
          ]
        }
      ]
    },
    {
      "cell_type": "markdown",
      "source": [
        "8.\tให้เขียนโปรแกรม เพื่อหาข้อมูลที่มีความถี่มากกว่าครึ่งหนึ่งของจำนวนข้อมูลที่รับเข้ามา แต่ถ้าไม่พบให้แสดง Not found โดยใช้ list comprehension\n",
        "\n",
        "- เช่น \t[4, 5, 5, 10] ได้ผลลัพธ์เป็น Not found\n",
        "-\t[4, 5, 5] ได้ผลลัพธ์เป็น 5\n",
        "-\t[10, 5, 5, 3, 5] ได้ผลลัพธ์เป็น 5\n",
        "-\t[2, 4, 2, 4, 2, 4] ได้ผลลัพธ์เป็น Not found\n",
        "\n",
        "ให้เขียนเป็นฟังก์ชัน ชื่อ more_than_half(n_list) โดย n_list เป็นข้อมูลนำเข้า และ return เป็นผลลัพธ์ หรือ Not found\n"
      ],
      "metadata": {
        "id": "oJGkdpmfEH2e"
      }
    },
    {
      "cell_type": "code",
      "source": [
        "def more_than_half(n_list):\n",
        "  res = [i if n_list.count(i) > len(n_list) / 2 else 'Not Found' for i in n_list]\n",
        "  return res\n",
        "\n",
        "print(more_than_half([4, 5, 5, 10])) #=> \"Not found\"\n",
        "print(more_than_half([4, 5, 5])) #=> 5\n",
        "print(more_than_half([10, 5, 5, 3, 5])) #=> 5\n",
        "print(more_than_half([2, 4, 2, 4, 2, 4])) #=> \"Not found\""
      ],
      "metadata": {
        "id": "ahXL6sfbEQUQ",
        "colab": {
          "base_uri": "https://localhost:8080/"
        },
        "outputId": "49afc3e0-7ad6-4da0-9464-12f4f903d00e"
      },
      "execution_count": 16,
      "outputs": [
        {
          "output_type": "stream",
          "name": "stdout",
          "text": [
            "['Not Found', 'Not Found', 'Not Found', 'Not Found']\n",
            "['Not Found', 5, 5]\n",
            "['Not Found', 5, 5, 'Not Found', 5]\n",
            "['Not Found', 'Not Found', 'Not Found', 'Not Found', 'Not Found', 'Not Found']\n"
          ]
        }
      ]
    },
    {
      "cell_type": "markdown",
      "source": [
        "9.\tจงเขียนโปรแกรมในแบบ recursion เพื่อกลับ String เช่น\n",
        "- Input : 'desserts'\n",
        "- Output : 'stressed'\n"
      ],
      "metadata": {
        "id": "0oTFJs2PEkL5"
      }
    },
    {
      "cell_type": "code",
      "source": [
        "def reverse_string(s):\n",
        "  if len(s) == 0:\n",
        "    return s\n",
        "  else:\n",
        "    return reverse_string(s[1:]) + s[0]\n",
        "\n",
        "print(reverse_string('desserts'))"
      ],
      "metadata": {
        "id": "_h5KwR9WEo7e",
        "colab": {
          "base_uri": "https://localhost:8080/"
        },
        "outputId": "e4cd9607-36e3-47c3-8f31-7870b2d04b8d"
      },
      "execution_count": null,
      "outputs": [
        {
          "output_type": "stream",
          "name": "stdout",
          "text": [
            "stressed\n"
          ]
        }
      ]
    }
  ]
}