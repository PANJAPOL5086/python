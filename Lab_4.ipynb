{
  "nbformat": 4,
  "nbformat_minor": 0,
  "metadata": {
    "colab": {
      "provenance": [],
      "include_colab_link": true
    },
    "kernelspec": {
      "name": "python3",
      "display_name": "Python 3"
    },
    "language_info": {
      "name": "python"
    }
  },
  "cells": [
    {
      "cell_type": "markdown",
      "metadata": {
        "id": "view-in-github",
        "colab_type": "text"
      },
      "source": [
        "<a href=\"https://colab.research.google.com/github/PANJAPOL5086/python/blob/main/Lab_4.ipynb\" target=\"_parent\"><img src=\"https://colab.research.google.com/assets/colab-badge.svg\" alt=\"Open In Colab\"/></a>"
      ]
    },
    {
      "cell_type": "markdown",
      "source": [
        "4.1 2520 คือ ตัวเลขที่น้อยที่สุด ที่สามารถหารด้วยตัวเลขทุกตัวตั้งแต่ 1-10 จงหาจำนวนเต็มบวกที่น้อยที่สุดที่หารด้วยตัวเลขทุกตัวตั้งแต่ 1-20\n",
        "\n",
        "15 = 360360\n",
        "\n",
        "20 = 232792560\n",
        "\n",
        "ปล. ห้าม import math"
      ],
      "metadata": {
        "id": "-bpz7hteQPdz"
      }
    },
    {
      "cell_type": "code",
      "execution_count": 4,
      "metadata": {
        "id": "HSZUXcF2QMVn",
        "colab": {
          "base_uri": "https://localhost:8080/"
        },
        "outputId": "3b822228-4319-4fea-82e0-932ed047027c"
      },
      "outputs": [
        {
          "output_type": "stream",
          "name": "stdout",
          "text": [
            "232792560\n"
          ]
        }
      ],
      "source": [
        "for i in range(1, 21):\n",
        "    a = result\n",
        "    b = i\n",
        "    while b:\n",
        "        a, b = b, a % b\n",
        "    gcd_result_i = a\n",
        "    result = (result * i)\n",
        "print(result)"
      ]
    },
    {
      "cell_type": "markdown",
      "source": [
        "4.2 จำนวนเฉพาะ (Prime Number) คือตัวเลขที่มีแต่ 1 กับตัวมันเองที่หารลงตัว โดยจำนวนเฉพาะ 6 ตัวแรกคือ 2, 3, 5, 7, 11, 13 โดยจำนวนเฉพาะตัวที่ 6 คือ 13 จงหาจำนวนเฉพาะตัวที่ 101\n",
        "\n",
        "=> 547"
      ],
      "metadata": {
        "id": "Wq1EFYHUWNOA"
      }
    },
    {
      "cell_type": "code",
      "source": [
        "count = 0\n",
        "num = 1\n",
        "\n",
        "while count < 101:\n",
        "    num += 1\n",
        "    is_prime = True\n",
        "    if num <= 1:\n",
        "        is_prime = False\n",
        "    elif num <= 3:\n",
        "        is_prime = True\n",
        "    elif num % 2 == 0 or num % 3 == 0:\n",
        "        is_prime = False\n",
        "    else:\n",
        "        i = 5\n",
        "        while i * i <= num:\n",
        "            if num % i == 0 or num % (i + 2) == 0:\n",
        "                is_prime = False\n",
        "                break\n",
        "            i += 6\n",
        "\n",
        "    if is_prime:\n",
        "        count += 1\n",
        "\n",
        "print(num)"
      ],
      "metadata": {
        "colab": {
          "base_uri": "https://localhost:8080/"
        },
        "id": "cpMa6Vp0Vz_L",
        "outputId": "c279625b-56bd-422e-a668-71421008449d"
      },
      "execution_count": 5,
      "outputs": [
        {
          "output_type": "stream",
          "name": "stdout",
          "text": [
            "547\n"
          ]
        }
      ]
    },
    {
      "cell_type": "markdown",
      "source": [
        "1.\tกำหนดให้มี List หนึ่งประกอบด้วยตัวเลขจำนวนหนึ่ง และ ให้รับตัวเลขจำนวน 1 จำนวน จากนั้นให้หาว่าใน List มีตัวเลข 2 จำนวนใดที่บวกกันเท่ากับตัวเลขที่รับมา ให้แสดงคำตอบเป็น List เช่น Output: [0,1] โดยอาจมีมากกว่า 1 คำตอบ\n",
        "\n",
        "ตัวอย่าง list : [2, 7, 11, 15]\n",
        "\n",
        "Input : 9\n",
        "\n",
        "Output : 2 + 7 = 9 (ถ้าไม่มีให้บอก None)\n"
      ],
      "metadata": {
        "id": "-pUpw-m_WqFG"
      }
    },
    {
      "cell_type": "code",
      "source": [
        "numbers = [2, 7, 11, 15]\n",
        "\n",
        "target = int(input(\"Input: \"))\n",
        "\n",
        "num_to_index = {}\n",
        "result = []\n",
        "\n",
        "for i, num in enumerate(numbers):\n",
        "    complement = target - num\n",
        "    if complement in num_to_index:\n",
        "        result.append([num_to_index[complement], i])\n",
        "    num_to_index[num] = i\n",
        "\n",
        "if result:\n",
        "    print(result)\n",
        "else:\n",
        "    print(\"None\")\n"
      ],
      "metadata": {
        "id": "s3djwBi4ks1g",
        "colab": {
          "base_uri": "https://localhost:8080/"
        },
        "outputId": "6d3219b9-2949-458a-a2d8-50ae5c5eef35"
      },
      "execution_count": 8,
      "outputs": [
        {
          "output_type": "stream",
          "name": "stdout",
          "text": [
            "Input: 3\n",
            "None\n"
          ]
        }
      ]
    },
    {
      "cell_type": "markdown",
      "source": [
        "2.\tให้เขียนโปรแกรมรับข้อมูล 1 บรรทัด ประกอบด้วยตัวเลข 1 หลัก จำนวนไม่เกิน 10 ตัว คั่นด้วยช่องว่าง จากนั้นให้นำตัวเลขที่รับเข้ามาเรียงกัน และหาลำดับการเรียงที่ทำให้มีค่าน้อยที่สุด โดยต้องไม่ขึ้นต้นด้วย 0\n",
        "\n",
        "Input : 9 4 6 2  \n",
        "\n",
        "คำตอบ 2469\n",
        "\n",
        "Input : 3 0 8 1 3 3\n",
        "\n",
        "คำตอบ : 103338\n"
      ],
      "metadata": {
        "id": "_3yLG291lSFy"
      }
    },
    {
      "cell_type": "code",
      "source": [
        "input_numbers = input().split()\n",
        "\n",
        "n = len(input_numbers)\n",
        "\n",
        "for i in range(n):\n",
        "    for j in range(0, n-i-1):\n",
        "        if input_numbers[j] + input_numbers[j+1] > input_numbers[j+1] + input_numbers[j]:\n",
        "            input_numbers[j], input_numbers[j+1] = input_numbers[j+1], input_numbers[j]\n",
        "\n",
        "result = ''.join(input_numbers)\n",
        "\n",
        "if result[0] == '0':\n",
        "    result = '0'\n",
        "\n",
        "print(result)\n"
      ],
      "metadata": {
        "id": "ACtXvMEyli0L",
        "colab": {
          "base_uri": "https://localhost:8080/"
        },
        "outputId": "a0ea8e0d-0370-4840-ee19-232f6de06670"
      },
      "execution_count": 10,
      "outputs": [
        {
          "output_type": "stream",
          "name": "stdout",
          "text": [
            "9 2 3 1 5 7 8\n",
            "1235789\n"
          ]
        }
      ]
    },
    {
      "cell_type": "markdown",
      "source": [
        "3.\tจากตัวเลขต่อไปนี้ ตัวเลขติดกัน 4 ตัวที่เมื่อนำมาคูณกันแล้วมีค่ามากที่สุดคือ 9 × 9 × 8 × 9 = 5832\n",
        "\n",
        "73167176531330624919225119674426574742355349194934\n",
        "96983520312774506326239578318016984801869478851843\n",
        "85861560789112949495459501737958331952853208805511\n",
        "12540698747158523863050715693290963295227443043557\n",
        "66896648950445244523161731856403098711121722383113\n",
        "62229893423380308135336276614282806444486645238749\n",
        "30358907296290491560440772390713810515859307960866\n",
        "70172427121883998797908792274921901699720888093776\n",
        "65727333001053367881220235421809751254540594752243\n",
        "52584907711670556013604839586446706324415722155397\n",
        "53697817977846174064955149290862569321978468622482\n",
        "83972241375657056057490261407972968652414535100474\n",
        "82166370484403199890008895243450658541227588666881\n",
        "16427171479924442928230863465674813919123162824586\n",
        "17866458359124566529476545682848912883142607690042\n",
        "24219022671055626321111109370544217506941658960408\n",
        "07198403850962455444362981230987879927244284909188\n",
        "84580156166097919133875499200524063689912560717606\n",
        "05886116467109405077541002256983155200055935729725\n",
        "71636269561882670428252483600823257530420752963450\n",
        "\n",
        "จงหาเลขติดกัน 8 ตัวที่เมื่อนำมาคูณกันแล้วมีค่ามากที่สุด และเป็นเลขอะไร ผลคูณเท่ากับเท่าไร\n",
        "\n",
        "The maximum product is: 7838208\n",
        "The digits are: 88399879\n",
        "\n",
        "\n",
        "\n"
      ],
      "metadata": {
        "id": "Gv8aIY7dliSY"
      }
    },
    {
      "cell_type": "code",
      "source": [
        "number_string = (\n",
        "    \"73167176531330624919225119674426574742355349194934\"\n",
        "    \"96983520312774506326239578318016984801869478851843\"\n",
        "    \"85861560789112949495459501737958331952853208805511\"\n",
        "    \"12540698747158523863050715693290963295227443043557\"\n",
        "    \"66896648950445244523161731856403098711121722383113\"\n",
        "    \"62229893423380308135336276614282806444486645238749\"\n",
        "    \"30358907296290491560440772390713810515859307960866\"\n",
        "    \"70172427121883998797908792274921901699720888093776\"\n",
        "    \"65727333001053367881220235421809751254540594752243\"\n",
        "    \"52584907711670556013604839586446706324415722155397\"\n",
        "    \"53697817977846174064955149290862569321978468622482\"\n",
        "    \"83972241375657056057490261407972968652414535100474\"\n",
        "    \"82166370484403199890008895243450658541227588666881\"\n",
        "    \"16427171479924442928230863465674813919123162824586\"\n",
        "    \"17866458359124566529476545682848912883142607690042\"\n",
        "    \"24219022671055626321111109370544217506941658960408\"\n",
        "    \"07198403850962455444362981230987879927244284909188\"\n",
        "    \"84580156166097919133875499200524063689912560717606\"\n",
        "    \"05886116467109405077541002256983155200055935729725\"\n",
        "    \"71636269561882670428252483600823257530420752963450\"\n",
        ")\n",
        "\n",
        "window_size = 8\n",
        "\n",
        "max_product = 0\n",
        "max_digits = \"\"\n",
        "\n",
        "for i in range(len(number_string) - window_size + 1):\n",
        "    subset = number_string[i:i + window_size]\n",
        "\n",
        "    product = 1\n",
        "    for char in subset:\n",
        "        product *= int(char)\n",
        "\n",
        "    if product > max_product:\n",
        "        max_product = product\n",
        "        max_digits = subset\n",
        "\n",
        "print(f\"เป็นเลข: {max_product}\")\n",
        "print(f\"เป็นเลข: {max_digits}\")\n"
      ],
      "metadata": {
        "id": "wvVqGMknmBu5",
        "colab": {
          "base_uri": "https://localhost:8080/"
        },
        "outputId": "6053d19f-5480-4a02-d87a-579b621c8263"
      },
      "execution_count": 12,
      "outputs": [
        {
          "output_type": "stream",
          "name": "stdout",
          "text": [
            "เป็นเลข: 7838208\n",
            "เป็นเลข: 88399879\n"
          ]
        }
      ]
    },
    {
      "cell_type": "markdown",
      "source": [
        "4.\tตัวเลข palindrome คือตัวเลขที่อ่านได้ทั้ง 2 ทาง แล้วมีค่าเท่ากัน เช่น 9009 โดย 9009 คือ palindrome ที่เกิดจากการคูณของตัวเลข 2 หลักที่มากที่สุด คือ 91x99 จงหา palindrome ที่มากที่สุดของตัวเลข 3 หลัก\n",
        "\n",
        "The largest palindrome product of 3-digit numbers is: 906609\n"
      ],
      "metadata": {
        "id": "fjy5LNC7m0We"
      }
    },
    {
      "cell_type": "code",
      "source": [
        "# ตัวแปรเริ่มต้น\n",
        "max_palindrome = 0\n",
        "factor1 = 0\n",
        "factor2 = 0\n",
        "\n",
        "# ลูปผ่านตัวเลข 3 หลักทั้งหมด\n",
        "for i in range(100, 1000):\n",
        "    for j in range(i, 1000):\n",
        "        product = i * j\n",
        "        # ตรวจสอบว่า product เป็น palindrome หรือไม่\n",
        "        product_str = str(product)\n",
        "        if product_str == product_str[::-1]:  # ตรวจสอบว่าเป็น palindrome\n",
        "            if product > max_palindrome:\n",
        "                max_palindrome = product\n",
        "                factor1 = i\n",
        "                factor2 = j\n",
        "\n",
        "# แสดงผลลัพธ์\n",
        "print(f\"The largest palindrome product of 3-digit numbers is: {max_palindrome} \")\n"
      ],
      "metadata": {
        "id": "y-QY3hzVmsud",
        "colab": {
          "base_uri": "https://localhost:8080/"
        },
        "outputId": "9617797f-952b-4181-d0bc-d12009ef0925"
      },
      "execution_count": 16,
      "outputs": [
        {
          "output_type": "stream",
          "name": "stdout",
          "text": [
            "The largest palindrome product of 3-digit numbers is: 906609 \n"
          ]
        }
      ]
    },
    {
      "cell_type": "markdown",
      "source": [
        "5.\tกำหนดให้ string มีเพียงสัญลักษณ์ '(', ')', '{', '}', '[' และ ']' ให้ตรวจสอบว่า String ถูกต้อง โดย เมื่อมีวงเล็บเปิด จะต้องมีวงเล็บปิดที่เป็นชนิดเดียวกัน จำนวนเท่ากันที่เป็นคู่ของมัน\n",
        "\n",
        "```\n",
        "Input: s = \"()\"\n",
        "Output: true\n",
        "Input: s = \"()[]{}\"\n",
        "Output: true\n",
        "Input: s = \"[()]{}\"\n",
        "Output: true\n",
        "Input: s = \"(]\"\n",
        "Output: false\n",
        "```\n",
        "\n",
        "\n"
      ],
      "metadata": {
        "id": "rUZvLJ-JnGJY"
      }
    },
    {
      "cell_type": "code",
      "source": [
        "s = \"()[]{}\"\n",
        "\n",
        "# ใช้ List เป็น Stack\n",
        "stack = []\n",
        "\n",
        "bracket_map = {')': '(', '}': '{', ']': '['}\n",
        "\n",
        "for char in s:\n",
        "    if char in bracket_map:\n",
        "        if not stack or stack[-1] != bracket_map[char]:\n",
        "            print(False)\n",
        "            break\n",
        "        stack.pop()\n",
        "    else:\n",
        "        stack += [char]\n",
        "\n",
        "if not stack:\n",
        "    print(True)\n",
        "else:\n",
        "    print(False)\n"
      ],
      "metadata": {
        "id": "Ku8ts4x7nk1y",
        "colab": {
          "base_uri": "https://localhost:8080/"
        },
        "outputId": "246f1557-80eb-462f-ef31-f453cb623720"
      },
      "execution_count": 18,
      "outputs": [
        {
          "output_type": "stream",
          "name": "stdout",
          "text": [
            "True\n"
          ]
        }
      ]
    },
    {
      "cell_type": "markdown",
      "source": [
        "6.\tกำหนดให้รับข้อมูล Integer (เป็นบวกหรือลบก็ได้) จากนั้นให้แสดงผลลัพธ์ที่ reverse ตัวเลขตามตัวอย่าง\n",
        "\n",
        "```\n",
        "Input: x = 123\n",
        "Output: 321\n",
        "Input: x = -123\n",
        "Output: -321\n",
        "Input: x = 120\n",
        "Output: 21\n",
        "```\n",
        "\n"
      ],
      "metadata": {
        "id": "PLL9Wdqqnx7o"
      }
    },
    {
      "cell_type": "code",
      "source": [
        "number_str = input()\n",
        "sign = 1\n",
        "if number_str[0] == '-':\n",
        "    sign = -1\n",
        "    number_str = number_str[1:]\n",
        "number = 0\n",
        "for digit in number_str:\n",
        "    if digit.isdigit():\n",
        "        number = number * 10 + int(digit)\n",
        "    else:\n",
        "        print(\"Error\")\n",
        "        break\n",
        "reversed_num = 0\n",
        "while number > 0:\n",
        "    digit = number % 10\n",
        "    reversed_num = reversed_num * 10 + digit\n",
        "    number //= 10\n",
        "if reversed_num  != 0:\n",
        "    print(reversed_num * sign)\n",
        "elif reversed_num  == 0:\n",
        "    print(0)"
      ],
      "metadata": {
        "colab": {
          "base_uri": "https://localhost:8080/"
        },
        "id": "r1ed2i7EoAjk",
        "outputId": "faaf99d6-9d1d-479e-ae84-5b5734d981fe"
      },
      "execution_count": 17,
      "outputs": [
        {
          "output_type": "stream",
          "name": "stdout",
          "text": [
            "123\n",
            "321\n"
          ]
        }
      ]
    },
    {
      "cell_type": "markdown",
      "source": [
        "7.\tเขียนโปรแกรมเพื่อแสดงปิรามิดบนจอภาพ โดยแสดงเป็นรูปสี่เหลี่ยม ตัวเลขเริ่มจาก 0  และเพิ่มค่าตามลําดับจํานวนขั้น จาก 0 ถึง N (รับค่า N จากคีย์บอร์ด) ค่าของ N อยู่ระหว่าง 0-9 ดังตัวอย่าง\n",
        "\n",
        "\n",
        "```\n",
        "\t\t\t\t\t\t\t\t\t         0000000\n",
        "\t\t\t\t\t\t\t    00000\t\t0111110\n",
        "\t\t\t\t\t000\t\t 01110\t\t0122210\n",
        "\t\t\t0\t   010\t\t 01210\t\t0123210\n",
        "\t\t\t\t\t000\t\t 01110\t\t0122210\n",
        "\t\t\t\t\t\t\t    00000\t\t0111110\n",
        "\t\t\t\t\t\t\t\t\t         0000000\n",
        "\n",
        "\t\t\tn=0\t\tn=1\t\tn=2\t\tn=3\n",
        "\n",
        "```\n",
        "\n"
      ],
      "metadata": {
        "id": "KboD6c8rn52a"
      }
    },
    {
      "cell_type": "code",
      "source": [
        "N = int(input(\"Enter a number between 0 and 9: \"))\n",
        "\n",
        "if 0 <= N <= 9:\n",
        "    width = 2 * N - 1\n",
        "\n",
        "    for row in range(N, -N-1, -1):\n",
        "        for column in range(-N, N+1):\n",
        "            value = abs(max(abs(column), abs(row)) - N)\n",
        "            print(value, end=\"\")\n",
        "        print()\n",
        "\n",
        "\n",
        "else:\n",
        "    print(\"Invalid input. Please enter a number between 0 and 9.\")\n"
      ],
      "metadata": {
        "id": "sGhw6Iyfobiz",
        "colab": {
          "base_uri": "https://localhost:8080/"
        },
        "outputId": "4a0bad48-d201-4c2e-a1f9-5e0b4b8f2ca0"
      },
      "execution_count": 37,
      "outputs": [
        {
          "output_type": "stream",
          "name": "stdout",
          "text": [
            "Enter a number between 0 and 9: 4\n",
            "000000000\n",
            "011111110\n",
            "012222210\n",
            "012333210\n",
            "012343210\n",
            "012333210\n",
            "012222210\n",
            "011111110\n",
            "000000000\n"
          ]
        }
      ]
    },
    {
      "cell_type": "markdown",
      "source": [
        "8.\tเขียนโปรแกรมเพื่อแสดงปิรามิดบนจอภาพ โดยแสดงเป็นรูปสี่เหลี่ยม ตัวเลขเริ่มจาก 0  และเพิ่มค่าตามลําดับจํานวนขั้น จาก 0 ถึง N (รับค่า N จากคีย์บอร์ด) กําหนดให้จุดศูนย์กลางของรูปสี่เหลี่ยมอยู่ที่แถว 13 คอลัมน์ 40 ของจอภาพค่าของ N อยู่ระหว่าง 0-9 ดังตัวอย่าง\n",
        "\n",
        "\n",
        "\n",
        "```\n",
        "\t\t\t\t\t\t\t\t\t            0\n",
        "\t\t\t\t\t\t\t      0\t\t    010\n",
        "\t\t\t\t\t  0\t\t  010\t\t  01210\n",
        "\t\t\t0\t\t010\t\t01210\t\t0123210\n",
        "\t\t\t\t\t  0\t\t  010\t\t  01210\n",
        "\t\t\t\t\t\t\t      0\t\t    010\n",
        "\t\t\t\t\t\t\t\t\t            0\n",
        "\n",
        "\t\t\tn=0\t\tn=1\t\tn=2\t\tn=3\n",
        "\n",
        "```\n",
        "\n"
      ],
      "metadata": {
        "id": "ecRYU6Lkob6Q"
      }
    },
    {
      "cell_type": "code",
      "source": [
        "n_str = input(\"Enter the value of N (0-9): \")\n",
        "if n_str.isdigit():\n",
        "    n = int(n_str)\n",
        "    if n < 0 or n > 9:\n",
        "        print(\"Please enter a value between 0 and 9\")\n",
        "    else:\n",
        "        center_row = 13\n",
        "        center_col = 40\n",
        "\n",
        "        offset_row = center_row - n\n",
        "        offset_col = center_col - n\n",
        "\n",
        "        for row in range(-n, n + 1):\n",
        "            print(\" \" * offset_col, end=\"\")\n",
        "\n",
        "            for column in range(-n, n + 1):\n",
        "                if column + n == n or row + n == n or abs(column) + abs(row) <= n:\n",
        "                    print(abs((abs(column) + abs(row)) - n), end=\"\")\n",
        "                else:\n",
        "                    print(\" \", end=\"\")\n",
        "            print()\n",
        "else:\n",
        "    print(\"Invalid input. Please enter an integer.\")"
      ],
      "metadata": {
        "colab": {
          "base_uri": "https://localhost:8080/"
        },
        "id": "hXx0R1ebaJLp",
        "outputId": "98f3f499-4b13-4964-e65e-a0b09d31f45b"
      },
      "execution_count": 66,
      "outputs": [
        {
          "output_type": "stream",
          "name": "stdout",
          "text": [
            "Enter the value of N (0-9): 9\n",
            "                                        0         \n",
            "                                       010        \n",
            "                                      01210       \n",
            "                                     0123210      \n",
            "                                    012343210     \n",
            "                                   01234543210    \n",
            "                                  0123456543210   \n",
            "                                 012345676543210  \n",
            "                                01234567876543210 \n",
            "                               0123456789876543210\n",
            "                                01234567876543210 \n",
            "                                 012345676543210  \n",
            "                                  0123456543210   \n",
            "                                   01234543210    \n",
            "                                    012343210     \n",
            "                                     0123210      \n",
            "                                      01210       \n",
            "                                       010        \n",
            "                                        0         \n"
          ]
        }
      ]
    },
    {
      "cell_type": "markdown",
      "source": [
        "9.\tให้เขียนโปรแกรมสร้างรูปสามเหลี่ยมที่วางซ้อนกัน 3 รูป โดยแต่ละรูปสร้างมาจากเครื่องหมาย \"*\" โดยกําหนดให้รับตัวเลขระดับของสามเหลี่ยมจากคีย์บอร์ด จากตัวอย่างข้างล่างนี้เป็นรูปสามเหลี่ยมระดับที่ 3 และ 4\n",
        "\n",
        "\n",
        "\n",
        "```\n",
        "              *\n",
        "\t\t     ***\n",
        "\t\t    *****\n",
        "\t\t   *     *\n",
        "\t      ***   ***\n",
        "\t     ***** *****\n",
        "\n",
        "  \t\t    *\n",
        "\t  \t   ***\n",
        "\t\t    *****\n",
        "\t\t   *******\n",
        "\t      *       *\n",
        "\t     ***     ***\n",
        "\t    *****   *****\n",
        "\t   ******* *******\n",
        "\n",
        "```\n",
        "\n"
      ],
      "metadata": {
        "id": "Po50A-Kuo5t4"
      }
    },
    {
      "cell_type": "code",
      "source": [
        "n = int(input(\"Enter the value of n: \"))\n",
        "row = n * 2\n",
        "col = ((n * 2) * 2) - 1\n",
        "\n",
        "for i in range(row):\n",
        "    for j in range(col):\n",
        "        if ((i + j >= col // 2) and (j - i <= col // 2)):\n",
        "            if (i >= n and i + j >= i * 2 and i + j < col):\n",
        "                print(\" \", end=\"\")\n",
        "            else:\n",
        "                print(\"*\", end=\"\")\n",
        "        else:\n",
        "            print(\" \", end=\"\")\n",
        "    print()\n"
      ],
      "metadata": {
        "colab": {
          "base_uri": "https://localhost:8080/"
        },
        "id": "YWxTIgHUUWDN",
        "outputId": "274c0b3c-dbf7-4e39-e9fb-339864caa93d"
      },
      "execution_count": 58,
      "outputs": [
        {
          "output_type": "stream",
          "name": "stdout",
          "text": [
            "Enter the value of n: 10\n",
            "                   *                   \n",
            "                  ***                  \n",
            "                 *****                 \n",
            "                *******                \n",
            "               *********               \n",
            "              ***********              \n",
            "             *************             \n",
            "            ***************            \n",
            "           *****************           \n",
            "          *******************          \n",
            "         *                   *         \n",
            "        ***                 ***        \n",
            "       *****               *****       \n",
            "      *******             *******      \n",
            "     *********           *********     \n",
            "    ***********         ***********    \n",
            "   *************       *************   \n",
            "  ***************     ***************  \n",
            " *****************   ***************** \n",
            "******************* *******************\n"
          ]
        }
      ]
    }
  ]
}